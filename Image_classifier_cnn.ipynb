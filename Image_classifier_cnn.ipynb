{
  "nbformat": 4,
  "nbformat_minor": 0,
  "metadata": {
    "colab": {
      "name": "Copy of image-classifier-dnn.ipynb",
      "provenance": [],
      "collapsed_sections": [],
      "include_colab_link": true
    },
    "kernelspec": {
      "name": "python3",
      "display_name": "Python 3"
    },
    "language_info": {
      "name": "python"
    }
  },
  "cells": [
    {
      "cell_type": "markdown",
      "metadata": {
        "id": "view-in-github",
        "colab_type": "text"
      },
      "source": [
        "<a href=\"https://colab.research.google.com/github/yjq349825834/coin-recog/blob/master/Image_classifier_cnn.ipynb\" target=\"_parent\"><img src=\"https://colab.research.google.com/assets/colab-badge.svg\" alt=\"Open In Colab\"/></a>"
      ]
    },
    {
      "cell_type": "markdown",
      "metadata": {
        "id": "PC2XM9ueyLhu"
      },
      "source": [
        "# Image Classification: CNN\n",
        "\n",
        "[![Open In Colab <](https://colab.research.google.com/assets/colab-badge.svg)](https://colab.research.google.com/github/ShawnHymel/computer-vision-with-embedded-machine-learning/blob/master/1.2.3%20-%20Training%20an%20Image%20Classifier%20with%20Keras/image_classifier_dnn.ipynb)\n",
        "\n",
        "Run this notebook to train a CNN on your own image dataset.\n",
        "\n",
        "Based on: https://colab.research.google.com/github/AviatorMoser/keras-mnist-tutorial/blob/master/MNIST%20in%20Keras.ipynb#scrollTo=rFFriuVPwhAm\n",
        "\n",
        "(I recommend working through the example above, as it has a lot of good descriptions on doing classification with images)\n",
        "\n",
        "Create a folder named \"dataset\" in the /content directory and upload your images there. The images should be divided into their respective classes, where each class has its own folder with the name of the class. For example:\n",
        "\n",
        "<pre>\n",
        "/content\n",
        "    |- dataset\n",
        "        |- background\n",
        "        |- half\n",
        "        |- One\n",
        "        |- pointone\n",
        "        |- Two\n",
        "</pre>\n",
        "\n",
        "Author: Jiaqi Ye using EdgeImpulse, Inc.<br>\n",
        "Date: Feb. 28, 2022<br>\n",
        "License: [Apache-2.0](apache.org/licenses/LICENSE-2.0)<br>"
      ]
    },
    {
      "cell_type": "code",
      "metadata": {
        "id": "jhHG2__GyJjs"
      },
      "source": [
        "import numpy as np\n",
        "import matplotlib.pyplot as plt\n",
        "import random\n",
        "import os\n",
        "import PIL\n",
        "\n",
        "from keras.utils import np_utils                          # tools for creating one-hot encoding\n",
        "from keras.models import Sequential                       # Type of model we wish to use\n",
        "from keras.layers.core import Dense, Dropout, Activation  # Types of layers we wish to use\n",
        "from keras import layers\n",
        "from skimage.transform import resize                      # Used to scale/resize image arrays\n",
        "\n",
        "from sklearn.metrics import confusion_matrix              # Used to quickly make confusion matrix"
      ],
      "execution_count": null,
      "outputs": []
    },
    {
      "cell_type": "code",
      "metadata": {
        "id": "wu2l_Lm0yhtJ"
      },
      "source": [
        "### Settings\n",
        "\n",
        "# Location of dataset\n",
        "DATASET_PATH = \"/content/dataset\"\n",
        "\n",
        "# Desired resolution of images\n",
        "TARGET_WIDTH = 96\n",
        "TARGET_HEIGHT = 96\n",
        "\n",
        "# Invert image (dark backgrounds can sometimes improve accuracy)\n",
        "INVERT = False\n",
        "\n",
        "# Set aside 20% for validation and 20% for test\n",
        "VAL_RATIO = 0.2\n",
        "TEST_RATIO = 0.2\n",
        "\n",
        "# You are welcome to change the seed to try a different validation set split\n",
        "random.seed(42)"
      ],
      "execution_count": null,
      "outputs": []
    },
    {
      "cell_type": "code",
      "metadata": {
        "colab": {
          "base_uri": "https://localhost:8080/"
        },
        "id": "FXcJLxcv0yOT",
        "outputId": "0312d4da-9c77-4ecc-f75a-28ccd5931d1f"
      },
      "source": [
        "### Load images as Numpy arrays\n",
        "\n",
        "# We want to record the labels and assign a ground truth label as a number to each sample\n",
        "labels = []\n",
        "y_all = []    # Lowercase 'y' - 1D vector of the ground labels (n)\n",
        "X_all = []    # Uppercase 'X' - 3D array of all image samples (n x width x height)\n",
        "\n",
        "# Find the directories in the dataset folder (skip the Jupyter Notebook checkpoints hidden folder)\n",
        "for label in os.listdir(DATASET_PATH):\n",
        "  class_dir = os.path.join(DATASET_PATH, label)\n",
        "  if os.path.isdir(class_dir) and label != \".ipynb_checkpoints\":\n",
        "\n",
        "    # Add the name of the folder to our labels list\n",
        "    labels.append(label)\n",
        "\n",
        "    # Go through each image in the folder\n",
        "    for i, file in enumerate(os.listdir(class_dir)):\n",
        "\n",
        "      # Skip the Jupyter Notebook checkpoints folder that sometimes gets added\n",
        "      if file != \".ipynb_checkpoints\":\n",
        "\n",
        "        # Open image and convert to grayscale\n",
        "        file_path = os.path.join(class_dir, file)\n",
        "        img = PIL.Image.open(file_path).convert('L')\n",
        "\n",
        "        # Convert the image to a Numpy array, optionally invern, and append to X\n",
        "        img_array = np.asarray(img)\n",
        "        if INVERT:\n",
        "          img_array = 255 - img_array\n",
        "        X_all.append(img_array)\n",
        "\n",
        "        # Add label to the y array\n",
        "        y_all.append(label)\n",
        "\n",
        "    # Show how many images we loaded\n",
        "    print(\"Added\", str(i + 1), \"images from\", label)\n",
        "\n",
        "# Calculate total number of samples\n",
        "num_samples = len(X_all)\n",
        "\n",
        "# Sort the labels list by alphabetical order\n",
        "labels = sorted(labels)\n",
        "\n",
        "# Print out labels and number of samples\n",
        "print(labels)\n",
        "print(\"Number of samples:\", num_samples)"
      ],
      "execution_count": null,
      "outputs": [
        {
          "output_type": "stream",
          "name": "stdout",
          "text": [
            "Added 50 images from One\n",
            "Added 50 images from pointone\n",
            "Added 50 images from Two\n",
            "Added 50 images from background\n",
            "Added 50 images from half\n",
            "['One', 'Two', 'background', 'half', 'pointone']\n",
            "Number of samples: 250\n"
          ]
        }
      ]
    },
    {
      "cell_type": "code",
      "metadata": {
        "colab": {
          "base_uri": "https://localhost:8080/"
        },
        "id": "_ux1q5Z_nFq0",
        "outputId": "692bdbb2-e1b6-49a2-c5a4-456f56c8a2ac"
      },
      "source": [
        "### Convert labels to numbers\n",
        "\n",
        "# Show the labels before the conversion\n",
        "print(\"Before:\", y_all)\n",
        "\n",
        "# Convert each label to its index in the labels\n",
        "y_out = []\n",
        "for i, label in enumerate(y_all):\n",
        "  y_out.append(labels.index(label))\n",
        "y_all = y_out\n",
        "\n",
        "# Show the labels after the conversion\n",
        "print(\"After:\", y_all)"
      ],
      "execution_count": null,
      "outputs": [
        {
          "output_type": "stream",
          "name": "stdout",
          "text": [
            "Before: ['One', 'One', 'One', 'One', 'One', 'One', 'One', 'One', 'One', 'One', 'One', 'One', 'One', 'One', 'One', 'One', 'One', 'One', 'One', 'One', 'One', 'One', 'One', 'One', 'One', 'One', 'One', 'One', 'One', 'One', 'One', 'One', 'One', 'One', 'One', 'One', 'One', 'One', 'One', 'One', 'One', 'One', 'One', 'One', 'One', 'One', 'One', 'One', 'One', 'One', 'pointone', 'pointone', 'pointone', 'pointone', 'pointone', 'pointone', 'pointone', 'pointone', 'pointone', 'pointone', 'pointone', 'pointone', 'pointone', 'pointone', 'pointone', 'pointone', 'pointone', 'pointone', 'pointone', 'pointone', 'pointone', 'pointone', 'pointone', 'pointone', 'pointone', 'pointone', 'pointone', 'pointone', 'pointone', 'pointone', 'pointone', 'pointone', 'pointone', 'pointone', 'pointone', 'pointone', 'pointone', 'pointone', 'pointone', 'pointone', 'pointone', 'pointone', 'pointone', 'pointone', 'pointone', 'pointone', 'pointone', 'pointone', 'pointone', 'pointone', 'Two', 'Two', 'Two', 'Two', 'Two', 'Two', 'Two', 'Two', 'Two', 'Two', 'Two', 'Two', 'Two', 'Two', 'Two', 'Two', 'Two', 'Two', 'Two', 'Two', 'Two', 'Two', 'Two', 'Two', 'Two', 'Two', 'Two', 'Two', 'Two', 'Two', 'Two', 'Two', 'Two', 'Two', 'Two', 'Two', 'Two', 'Two', 'Two', 'Two', 'Two', 'Two', 'Two', 'Two', 'Two', 'Two', 'Two', 'Two', 'Two', 'Two', 'background', 'background', 'background', 'background', 'background', 'background', 'background', 'background', 'background', 'background', 'background', 'background', 'background', 'background', 'background', 'background', 'background', 'background', 'background', 'background', 'background', 'background', 'background', 'background', 'background', 'background', 'background', 'background', 'background', 'background', 'background', 'background', 'background', 'background', 'background', 'background', 'background', 'background', 'background', 'background', 'background', 'background', 'background', 'background', 'background', 'background', 'background', 'background', 'background', 'background', 'half', 'half', 'half', 'half', 'half', 'half', 'half', 'half', 'half', 'half', 'half', 'half', 'half', 'half', 'half', 'half', 'half', 'half', 'half', 'half', 'half', 'half', 'half', 'half', 'half', 'half', 'half', 'half', 'half', 'half', 'half', 'half', 'half', 'half', 'half', 'half', 'half', 'half', 'half', 'half', 'half', 'half', 'half', 'half', 'half', 'half', 'half', 'half', 'half', 'half']\n",
            "After: [0, 0, 0, 0, 0, 0, 0, 0, 0, 0, 0, 0, 0, 0, 0, 0, 0, 0, 0, 0, 0, 0, 0, 0, 0, 0, 0, 0, 0, 0, 0, 0, 0, 0, 0, 0, 0, 0, 0, 0, 0, 0, 0, 0, 0, 0, 0, 0, 0, 0, 4, 4, 4, 4, 4, 4, 4, 4, 4, 4, 4, 4, 4, 4, 4, 4, 4, 4, 4, 4, 4, 4, 4, 4, 4, 4, 4, 4, 4, 4, 4, 4, 4, 4, 4, 4, 4, 4, 4, 4, 4, 4, 4, 4, 4, 4, 4, 4, 4, 4, 1, 1, 1, 1, 1, 1, 1, 1, 1, 1, 1, 1, 1, 1, 1, 1, 1, 1, 1, 1, 1, 1, 1, 1, 1, 1, 1, 1, 1, 1, 1, 1, 1, 1, 1, 1, 1, 1, 1, 1, 1, 1, 1, 1, 1, 1, 1, 1, 1, 1, 2, 2, 2, 2, 2, 2, 2, 2, 2, 2, 2, 2, 2, 2, 2, 2, 2, 2, 2, 2, 2, 2, 2, 2, 2, 2, 2, 2, 2, 2, 2, 2, 2, 2, 2, 2, 2, 2, 2, 2, 2, 2, 2, 2, 2, 2, 2, 2, 2, 2, 3, 3, 3, 3, 3, 3, 3, 3, 3, 3, 3, 3, 3, 3, 3, 3, 3, 3, 3, 3, 3, 3, 3, 3, 3, 3, 3, 3, 3, 3, 3, 3, 3, 3, 3, 3, 3, 3, 3, 3, 3, 3, 3, 3, 3, 3, 3, 3, 3, 3]\n"
          ]
        }
      ]
    },
    {
      "cell_type": "code",
      "metadata": {
        "colab": {
          "base_uri": "https://localhost:8080/"
        },
        "id": "oJrS0Oz31NkI",
        "outputId": "ee0d8f9a-f92c-4769-c28c-ef8c0b5fe800"
      },
      "source": [
        "### Shuffle samples and labels together, divide into test, validation, and training sets\n",
        "\n",
        "# Shuffle samples and associated labels together\n",
        "X_y = list(zip(X_all, y_all))\n",
        "random.shuffle(X_y)\n",
        "X_all, y_all = zip(*X_y)\n",
        "\n",
        "# Calculate number of validation and test samples to put aside (round down)\n",
        "num_samples_test = int(TEST_RATIO * num_samples)\n",
        "num_samples_val = int(VAL_RATIO * num_samples)\n",
        "\n",
        "# The first `num_samples_test` samples of the shuffled list becomes the test set\n",
        "X_test = X_all[:num_samples_test]\n",
        "y_test = y_all[:num_samples_test]\n",
        "\n",
        "# The next `num_samples_val` samples of the shuffled list becomes the validation set\n",
        "X_val = X_all[num_samples_test:(num_samples_test + num_samples_val)]\n",
        "y_val = y_all[num_samples_test:(num_samples_test + num_samples_val)]\n",
        "\n",
        "# The remaining samples become the training set\n",
        "X_train = X_all[(num_samples_test + num_samples_val):]\n",
        "y_train = y_all[(num_samples_test + num_samples_val):]\n",
        "\n",
        "# Remember the number of samples in the test set\n",
        "num_samples_train = len(X_train)\n",
        "\n",
        "# Print out the number of test, validation, and training samples\n",
        "print(\"Number of test samples:\", num_samples_test)\n",
        "print(\"Number of validation samples:\", num_samples_val)\n",
        "print(\"Number of training samples:\", num_samples_train)"
      ],
      "execution_count": null,
      "outputs": [
        {
          "output_type": "stream",
          "name": "stdout",
          "text": [
            "Number of test samples: 50\n",
            "Number of validation samples: 50\n",
            "Number of training samples: 150\n"
          ]
        }
      ]
    },
    {
      "cell_type": "code",
      "metadata": {
        "colab": {
          "base_uri": "https://localhost:8080/",
          "height": 433
        },
        "id": "6FwDtw_DazYG",
        "outputId": "040c849b-ed3a-4238-f7a8-744110b43414"
      },
      "source": [
        "### View one of the training samples\n",
        "\n",
        "# Chose which sample you want to view\n",
        "idx = 0\n",
        "\n",
        "# Print out label (numbe and string) and part of the array\n",
        "print(\"Label: \" + str(y_train[idx]) + \" (\" + labels[y_train[idx]] + \")\")\n",
        "print(X_train[idx])\n",
        "\n",
        "# Display image from array\n",
        "plt.imshow(X_train[idx], cmap='gray', vmin=0, vmax=255)"
      ],
      "execution_count": null,
      "outputs": [
        {
          "output_type": "stream",
          "name": "stdout",
          "text": [
            "Label: 1 (Two)\n",
            "[[138 138 138 ... 128 126 125]\n",
            " [141 139 139 ... 128 127 127]\n",
            " [139 138 139 ... 128 128 128]\n",
            " ...\n",
            " [120 119 120 ...  47  47  46]\n",
            " [119 119 120 ...  46  46  46]\n",
            " [118 117 119 ...  46  46  45]]\n"
          ]
        },
        {
          "output_type": "execute_result",
          "data": {
            "text/plain": [
              "<matplotlib.image.AxesImage at 0x7fdafadb1550>"
            ]
          },
          "metadata": {},
          "execution_count": 49
        },
        {
          "output_type": "display_data",
          "data": {
            "image/png": "[encoded data removed]",
            "text/plain": [
              "<Figure size 432x288 with 1 Axes>"
            ]
          },
          "metadata": {
            "needs_background": "light"
          }
        }
      ]
    },
    {
      "cell_type": "code",
      "metadata": {
        "id": "7eVgRZnHc6_y"
      },
      "source": [
        "### Function to resize list of images\n",
        "def resize_images(images, width, height, anti_aliasing=True):\n",
        "  \"\"\"\n",
        "  Prove a list of Numpy arrays (in images parameter) to have them all resized to desired height and\n",
        "  width. Returns the list of newly resized image arrays.\n",
        "\n",
        "  NOTE: skimage resize returns *normalized* image arrays (values between 0..1)\n",
        "  \"\"\"\n",
        "  X_out = []\n",
        "  for i, img in enumerate(images):\n",
        "    X_out.append(resize(img, (height, width), anti_aliasing=anti_aliasing))\n",
        "  return X_out"
      ],
      "execution_count": null,
      "outputs": []
    },
    {
      "cell_type": "code",
      "metadata": {
        "id": "YNpuq5Lxa9Ck"
      },
      "source": [
        "### Scale/crop images\n",
        "\n",
        "# Resize (scale) all images in the training set\n",
        "X_train = resize_images(X_train, TARGET_WIDTH, TARGET_HEIGHT)\n",
        "\n",
        "# Resize (scale) all images in the validation set\n",
        "X_val = resize_images(X_val, TARGET_WIDTH, TARGET_HEIGHT)\n",
        "\n",
        "# Resize (scale) all images in the test set\n",
        "X_test = resize_images(X_test, TARGET_WIDTH, TARGET_HEIGHT)"
      ],
      "execution_count": null,
      "outputs": []
    },
    {
      "cell_type": "code",
      "metadata": {
        "colab": {
          "base_uri": "https://localhost:8080/",
          "height": 598
        },
        "id": "tL9W4Pw1cVon",
        "outputId": "31c739ea-9cde-4b44-91eb-91c61cd5780e"
      },
      "source": [
        "### View training sample again (after they all have been scaled)\n",
        "\n",
        "# Chose which sample you want to view\n",
        "idx = 0\n",
        "\n",
        "# Print out label (numbe and string) and part of the array\n",
        "print(\"Label: \" + str(y_train[idx]) + \" (\" + labels[y_train[idx]] + \")\")\n",
        "print(\"First row:\", X_train[idx][:1,:])\n",
        "\n",
        "# Display image from array (note that images have been normalized)\n",
        "plt.imshow(X_train[idx], cmap='gray', vmin=0, vmax=1)"
      ],
      "execution_count": null,
      "outputs": [
        {
          "output_type": "stream",
          "name": "stdout",
          "text": [
            "Label: 1 (Two)\n",
            "First row: [[0.54117647 0.54117647 0.54117647 0.54117647 0.54509804 0.54117647\n",
            "  0.54117647 0.53333333 0.5372549  0.5372549  0.54117647 0.54117647\n",
            "  0.5372549  0.5372549  0.5372549  0.53333333 0.53333333 0.5372549\n",
            "  0.53333333 0.53333333 0.53333333 0.53333333 0.52941176 0.53333333\n",
            "  0.53333333 0.53333333 0.53333333 0.52941176 0.52941176 0.53333333\n",
            "  0.5254902  0.5254902  0.52941176 0.52941176 0.52941176 0.5254902\n",
            "  0.52941176 0.5254902  0.5254902  0.52941176 0.5254902  0.5254902\n",
            "  0.5254902  0.52156863 0.52941176 0.5254902  0.51764706 0.52156863\n",
            "  0.5254902  0.52156863 0.52156863 0.52156863 0.5254902  0.5254902\n",
            "  0.52156863 0.5254902  0.52156863 0.51764706 0.51372549 0.51764706\n",
            "  0.52156863 0.52156863 0.52156863 0.52156863 0.52156863 0.51764706\n",
            "  0.51764706 0.50980392 0.51764706 0.51372549 0.51372549 0.51372549\n",
            "  0.51372549 0.50980392 0.50980392 0.50980392 0.50588235 0.51372549\n",
            "  0.50980392 0.51372549 0.50980392 0.50980392 0.50588235 0.50980392\n",
            "  0.50588235 0.50588235 0.50196078 0.50588235 0.49803922 0.49803922\n",
            "  0.49803922 0.50196078 0.49803922 0.50196078 0.49411765 0.49019608]]\n"
          ]
        },
        {
          "output_type": "execute_result",
          "data": {
            "text/plain": [
              "<matplotlib.image.AxesImage at 0x7fdafacd79d0>"
            ]
          },
          "metadata": {},
          "execution_count": 52
        },
        {
          "output_type": "display_data",
          "data": {
            "image/png": "[encoded data removed]",
            "text/plain": [
              "<Figure size 432x288 with 1 Axes>"
            ]
          },
          "metadata": {
            "needs_background": "light"
          }
        }
      ]
    },
    {
      "cell_type": "code",
      "metadata": {
        "colab": {
          "base_uri": "https://localhost:8080/"
        },
        "id": "E13XUha044fM",
        "outputId": "30d3535c-7584-481b-e857-ebc1b61a322b"
      },
      "source": [
        "### Convert list of samples and labels into Numpy arrays\n",
        "\n",
        "# Training set\n",
        "X_train = np.asarray(X_train)\n",
        "y_train = np.asarray(y_train)\n",
        "\n",
        "# Validation set\n",
        "X_val = np.asarray(X_val)\n",
        "y_val = np.asarray(y_val)\n",
        "\n",
        "# Test set\n",
        "X_test = np.asarray(X_test)\n",
        "y_test = np.asarray(y_test)\n",
        "\n",
        "# Print out the new Numpy array shapes (always a good idea to check the shapes!)\n",
        "print(\"Training X:\", X_train.shape)\n",
        "print(\"Training y:\", y_train.shape)\n",
        "print(\"Validation X:\", X_val.shape)\n",
        "print(\"Validation y:\", y_val.shape)\n",
        "print(\"Test X:\", X_test.shape)\n",
        "print(\"Test y:\", y_test.shape)"
      ],
      "execution_count": null,
      "outputs": [
        {
          "output_type": "stream",
          "name": "stdout",
          "text": [
            "Training X: (150, 96, 96)\n",
            "Training y: (150,)\n",
            "Validation X: (50, 96, 96)\n",
            "Validation y: (50,)\n",
            "Test X: (50, 96, 96)\n",
            "Test y: (50,)\n"
          ]
        }
      ]
    },
    {
      "cell_type": "code",
      "metadata": {
        "id": "Bf-p0MnJ9csm",
        "colab": {
          "base_uri": "https://localhost:8080/"
        },
        "outputId": "7529ba05-54b0-4da1-c0d7-cb98b1d98a03"
      },
      "source": [
        "### Flatten each image to a 1D vector (CNNs do not require 1D flatten)\n",
        "\n",
        "## Compute length of 1D array that we will flatten each image to\n",
        "#len_vector = TARGET_WIDTH * TARGET_WIDTH\n",
        "\n",
        "## Flatten matricies to vectors\n",
        "#X_train = X_train.reshape(num_samples_train, len_vector)\n",
        "#X_val = X_val.reshape(num_samples_val, len_vector)\n",
        "#X_test = X_test.reshape(num_samples_test, len_vector)\n",
        "\n",
        "## Determine the input shape for our Keras model (must be tuple)\n",
        "#input_shape = (X_train.shape[1],)\n",
        "\n",
        "## Print out shapes\n",
        "#print(\"X train:\", X_train.shape)\n",
        "#print(\"y train:\", y_train.shape)\n",
        "#print(\"X val:\", X_val.shape)\n",
        "#print(\"y val:\", y_val.shape)\n",
        "#print(\"X test:\", X_test.shape)\n",
        "#print(\"y test:\", y_test.shape)\n",
        "#print(\"Input tensor shape:\", input_shape)"
      ],
      "execution_count": null,
      "outputs": [
        {
          "output_type": "stream",
          "name": "stdout",
          "text": [
            "X train: (150, 784)\n",
            "y train: (150,)\n",
            "X val: (50, 784)\n",
            "y val: (50,)\n",
            "X test: (50, 784)\n",
            "y test: (50,)\n",
            "Input tensor shape: (784,)\n"
          ]
        }
      ]
    },
    {
      "cell_type": "code",
      "metadata": {
        "id": "m2D1xsis98pW",
        "colab": {
          "base_uri": "https://localhost:8080/"
        },
        "outputId": "1f542bd3-5c94-4b33-9e9d-53cd160513ce"
      },
      "source": [
        "### Convert labels (integers) to one-hot encoding\n",
        "\n",
        "# Get number of classes\n",
        "num_classes = len(labels)\n",
        "\n",
        "# Use Keras's np_utils to create one-hot encoding (note the capital 'Y' - 2D array)\n",
        "Y_train = np_utils.to_categorical(y_train, num_classes)\n",
        "Y_val = np_utils.to_categorical(y_val, num_classes)\n",
        "Y_test = np_utils.to_categorical(y_test, num_classes)\n",
        "\n",
        "# Print out shapes (capital 'Y' is our one-hot matrix!)\n",
        "print(\"Y train:\", Y_train.shape)\n",
        "print(\"Y val:\", Y_val.shape)\n",
        "print(\"Y test:\", Y_test.shape)\n",
        "\n",
        "# Print out a few examples from training set\n",
        "for i in range(10):\n",
        "  print(\"Label: \" + str(y_train[i]) + \" | One-hot:\", Y_train[i])"
      ],
      "execution_count": null,
      "outputs": [
        {
          "output_type": "stream",
          "name": "stdout",
          "text": [
            "Y train: (150, 5)\n",
            "Y val: (50, 5)\n",
            "Y test: (50, 5)\n",
            "Label: 1 | One-hot: [0. 1. 0. 0. 0.]\n",
            "Label: 1 | One-hot: [0. 1. 0. 0. 0.]\n",
            "Label: 3 | One-hot: [0. 0. 0. 1. 0.]\n",
            "Label: 3 | One-hot: [0. 0. 0. 1. 0.]\n",
            "Label: 3 | One-hot: [0. 0. 0. 1. 0.]\n",
            "Label: 0 | One-hot: [1. 0. 0. 0. 0.]\n",
            "Label: 1 | One-hot: [0. 1. 0. 0. 0.]\n",
            "Label: 2 | One-hot: [0. 0. 1. 0. 0.]\n",
            "Label: 1 | One-hot: [0. 1. 0. 0. 0.]\n",
            "Label: 0 | One-hot: [1. 0. 0. 0. 0.]\n"
          ]
        }
      ]
    },
    {
      "cell_type": "code",
      "metadata": {
        "id": "uJK-b2ds94w4",
        "colab": {
          "base_uri": "https://localhost:8080/"
        },
        "outputId": "3a03df43-4b2e-48f3-e622-9db5f02126d1"
      },
      "source": [
        "### Construct Keras model\n",
        "\n",
        "# A sequential model is a linear stack of layers\n",
        "model = Sequential()\n",
        "\n",
        "model.add(layers.Conv2D(8, (3, 3), activation='relu',\n",
        "input_shape=(96, 96, 1)))\n",
        "model.add(layers.MaxPooling2D((2, 2)))\n",
        "model.add(layers.Conv2D(16, (3, 3), activation='relu'))\n",
        "model.add(layers.MaxPooling2D((2, 2)))\n",
        "model.add(layers.Conv2D(32, (3, 3), activation='relu'))\n",
        "model.add(layers.MaxPooling2D((2, 2)))\n",
        "model.add(layers.Conv2D(64, (3, 3), activation='relu'))\n",
        "model.add(layers.MaxPooling2D((2, 2)))\n",
        "model.add(layers.Flatten())\n",
        "model.add(layers.Dropout(0.5))\n",
        "model.add(layers.Dense(64, activation='relu'))\n",
        "model.add(layers.Dense(5, activation='sigmoid'))\n",
        "\n",
        "# Configure the model's training settings\n",
        "model.compile(loss='categorical_crossentropy', optimizer='adam', metrics=['acc'])\n",
        "\n",
        "# Print out model summary\n",
        "print(model.summary())"
      ],
      "execution_count": null,
      "outputs": [
        {
          "output_type": "stream",
          "name": "stdout",
          "text": [
            "Model: \"sequential_9\"\n",
            "_________________________________________________________________\n",
            " Layer (type)                Output Shape              Param #   \n",
            "=================================================================\n",
            " conv2d_24 (Conv2D)          (None, 94, 94, 8)         80        \n",
            "                                                                 \n",
            " max_pooling2d_23 (MaxPoolin  (None, 47, 47, 8)        0         \n",
            " g2D)                                                            \n",
            "                                                                 \n",
            " conv2d_25 (Conv2D)          (None, 45, 45, 16)        1168      \n",
            "                                                                 \n",
            " max_pooling2d_24 (MaxPoolin  (None, 22, 22, 16)       0         \n",
            " g2D)                                                            \n",
            "                                                                 \n",
            " conv2d_26 (Conv2D)          (None, 20, 20, 32)        4640      \n",
            "                                                                 \n",
            " max_pooling2d_25 (MaxPoolin  (None, 10, 10, 32)       0         \n",
            " g2D)                                                            \n",
            "                                                                 \n",
            " conv2d_27 (Conv2D)          (None, 8, 8, 64)          18496     \n",
            "                                                                 \n",
            " max_pooling2d_26 (MaxPoolin  (None, 4, 4, 64)         0         \n",
            " g2D)                                                            \n",
            "                                                                 \n",
            " flatten_7 (Flatten)         (None, 1024)              0         \n",
            "                                                                 \n",
            " dropout_2 (Dropout)         (None, 1024)              0         \n",
            "                                                                 \n",
            " dense_17 (Dense)            (None, 64)                65600     \n",
            "                                                                 \n",
            " dense_18 (Dense)            (None, 5)                 325       \n",
            "                                                                 \n",
            "=================================================================\n",
            "Total params: 90,309\n",
            "Trainable params: 90,309\n",
            "Non-trainable params: 0\n",
            "_________________________________________________________________\n",
            "None\n"
          ]
        }
      ]
    },
    {
      "cell_type": "code",
      "metadata": {
        "colab": {
          "base_uri": "https://localhost:8080/"
        },
        "id": "4Rc0O_86pmwb",
        "outputId": "916fd7a4-5919-45d3-ff74-9953e59c7503"
      },
      "source": [
        "### Train the model\n",
        "history = model.fit(X_train, \n",
        "                    Y_train, \n",
        "                    batch_size=32, \n",
        "                    epochs=200, \n",
        "                    verbose=1,\n",
        "                    validation_data=(X_val, Y_val))"
      ],
      "execution_count": null,
      "outputs": [
        {
          "output_type": "stream",
          "name": "stdout",
          "text": [
            "Epoch 1/200\n",
            "5/5 [==============================] - 2s 211ms/step - loss: 1.6090 - acc: 0.2333 - val_loss: 1.5985 - val_acc: 0.2200\n",
            "Epoch 2/200\n",
            "5/5 [==============================] - 1s 160ms/step - loss: 1.5820 - acc: 0.2800 - val_loss: 1.5763 - val_acc: 0.2400\n",
            "Epoch 3/200\n",
            "5/5 [==============================] - 1s 167ms/step - loss: 1.5545 - acc: 0.3400 - val_loss: 1.5306 - val_acc: 0.3400\n",
            "Epoch 4/200\n",
            "5/5 [==============================] - 1s 166ms/step - loss: 1.4978 - acc: 0.3733 - val_loss: 1.4403 - val_acc: 0.3400\n",
            "Epoch 5/200\n",
            "5/5 [==============================] - 1s 164ms/step - loss: 1.3779 - acc: 0.4733 - val_loss: 1.3334 - val_acc: 0.4800\n",
            "Epoch 6/200\n",
            "5/5 [==============================] - 1s 163ms/step - loss: 1.2612 - acc: 0.4667 - val_loss: 1.1416 - val_acc: 0.5400\n",
            "Epoch 7/200\n",
            "5/5 [==============================] - 1s 163ms/step - loss: 1.0316 - acc: 0.5600 - val_loss: 1.0082 - val_acc: 0.7400\n",
            "Epoch 8/200\n",
            "5/5 [==============================] - 1s 165ms/step - loss: 0.9697 - acc: 0.6000 - val_loss: 1.0520 - val_acc: 0.6000\n",
            "Epoch 9/200\n",
            "5/5 [==============================] - 1s 161ms/step - loss: 0.8846 - acc: 0.6467 - val_loss: 0.9453 - val_acc: 0.6600\n",
            "Epoch 10/200\n",
            "5/5 [==============================] - 1s 165ms/step - loss: 0.7686 - acc: 0.6933 - val_loss: 0.9591 - val_acc: 0.6400\n",
            "Epoch 11/200\n",
            "5/5 [==============================] - 1s 157ms/step - loss: 0.6730 - acc: 0.7267 - val_loss: 0.8817 - val_acc: 0.7400\n",
            "Epoch 12/200\n",
            "5/5 [==============================] - 1s 157ms/step - loss: 0.6916 - acc: 0.6667 - val_loss: 0.8580 - val_acc: 0.7600\n",
            "Epoch 13/200\n",
            "5/5 [==============================] - 1s 159ms/step - loss: 0.5524 - acc: 0.7933 - val_loss: 0.9011 - val_acc: 0.6800\n",
            "Epoch 14/200\n",
            "5/5 [==============================] - 1s 162ms/step - loss: 0.5884 - acc: 0.7733 - val_loss: 0.8225 - val_acc: 0.7600\n",
            "Epoch 15/200\n",
            "5/5 [==============================] - 1s 164ms/step - loss: 0.5772 - acc: 0.7933 - val_loss: 0.9172 - val_acc: 0.7000\n",
            "Epoch 16/200\n",
            "5/5 [==============================] - 1s 165ms/step - loss: 0.5432 - acc: 0.7867 - val_loss: 0.7964 - val_acc: 0.7000\n",
            "Epoch 17/200\n",
            "5/5 [==============================] - 1s 160ms/step - loss: 0.5179 - acc: 0.7933 - val_loss: 0.7979 - val_acc: 0.7600\n",
            "Epoch 18/200\n",
            "5/5 [==============================] - 1s 164ms/step - loss: 0.5548 - acc: 0.8133 - val_loss: 0.7869 - val_acc: 0.7600\n",
            "Epoch 19/200\n",
            "5/5 [==============================] - 1s 166ms/step - loss: 0.4701 - acc: 0.8133 - val_loss: 0.7941 - val_acc: 0.7000\n",
            "Epoch 20/200\n",
            "5/5 [==============================] - 1s 165ms/step - loss: 0.4968 - acc: 0.7533 - val_loss: 0.7371 - val_acc: 0.7600\n",
            "Epoch 21/200\n",
            "5/5 [==============================] - 1s 173ms/step - loss: 0.4185 - acc: 0.8333 - val_loss: 0.8123 - val_acc: 0.7800\n",
            "Epoch 22/200\n",
            "5/5 [==============================] - 1s 168ms/step - loss: 0.4353 - acc: 0.8067 - val_loss: 0.7887 - val_acc: 0.7800\n",
            "Epoch 23/200\n",
            "5/5 [==============================] - 1s 172ms/step - loss: 0.4149 - acc: 0.8667 - val_loss: 0.8383 - val_acc: 0.7800\n",
            "Epoch 24/200\n",
            "5/5 [==============================] - 1s 165ms/step - loss: 0.4501 - acc: 0.7800 - val_loss: 0.7575 - val_acc: 0.7800\n",
            "Epoch 25/200\n",
            "5/5 [==============================] - 1s 163ms/step - loss: 0.4072 - acc: 0.8200 - val_loss: 0.7494 - val_acc: 0.8000\n",
            "Epoch 26/200\n",
            "5/5 [==============================] - 1s 161ms/step - loss: 0.4542 - acc: 0.8133 - val_loss: 0.7538 - val_acc: 0.7800\n",
            "Epoch 27/200\n",
            "5/5 [==============================] - 1s 163ms/step - loss: 0.3815 - acc: 0.8667 - val_loss: 0.7234 - val_acc: 0.7800\n",
            "Epoch 28/200\n",
            "5/5 [==============================] - 1s 159ms/step - loss: 0.3817 - acc: 0.8533 - val_loss: 0.7672 - val_acc: 0.8400\n",
            "Epoch 29/200\n",
            "5/5 [==============================] - 1s 157ms/step - loss: 0.3473 - acc: 0.8667 - val_loss: 0.7296 - val_acc: 0.8200\n",
            "Epoch 30/200\n",
            "5/5 [==============================] - 1s 160ms/step - loss: 0.3311 - acc: 0.8800 - val_loss: 0.7634 - val_acc: 0.8400\n",
            "Epoch 31/200\n",
            "5/5 [==============================] - 1s 158ms/step - loss: 0.3174 - acc: 0.8667 - val_loss: 0.7600 - val_acc: 0.8000\n",
            "Epoch 32/200\n",
            "5/5 [==============================] - 1s 158ms/step - loss: 0.2814 - acc: 0.8933 - val_loss: 0.7369 - val_acc: 0.8600\n",
            "Epoch 33/200\n",
            "5/5 [==============================] - 1s 153ms/step - loss: 0.3450 - acc: 0.8467 - val_loss: 0.8185 - val_acc: 0.8200\n",
            "Epoch 34/200\n",
            "5/5 [==============================] - 1s 159ms/step - loss: 0.3421 - acc: 0.8533 - val_loss: 0.7429 - val_acc: 0.8000\n",
            "Epoch 35/200\n",
            "5/5 [==============================] - 1s 164ms/step - loss: 0.3155 - acc: 0.8933 - val_loss: 0.7298 - val_acc: 0.8000\n",
            "Epoch 36/200\n",
            "5/5 [==============================] - 1s 169ms/step - loss: 0.2949 - acc: 0.9133 - val_loss: 0.7550 - val_acc: 0.8600\n",
            "Epoch 37/200\n",
            "5/5 [==============================] - 1s 168ms/step - loss: 0.2597 - acc: 0.9000 - val_loss: 0.6620 - val_acc: 0.8400\n",
            "Epoch 38/200\n",
            "5/5 [==============================] - 1s 161ms/step - loss: 0.2293 - acc: 0.9400 - val_loss: 0.9277 - val_acc: 0.8400\n",
            "Epoch 39/200\n",
            "5/5 [==============================] - 1s 155ms/step - loss: 0.2727 - acc: 0.9067 - val_loss: 0.7078 - val_acc: 0.8600\n",
            "Epoch 40/200\n",
            "5/5 [==============================] - 1s 161ms/step - loss: 0.2740 - acc: 0.8600 - val_loss: 0.9767 - val_acc: 0.7800\n",
            "Epoch 41/200\n",
            "5/5 [==============================] - 1s 162ms/step - loss: 0.2932 - acc: 0.8800 - val_loss: 0.7337 - val_acc: 0.8400\n",
            "Epoch 42/200\n",
            "5/5 [==============================] - 1s 164ms/step - loss: 0.2774 - acc: 0.8667 - val_loss: 0.7395 - val_acc: 0.8600\n",
            "Epoch 43/200\n",
            "5/5 [==============================] - 1s 159ms/step - loss: 0.2861 - acc: 0.8933 - val_loss: 0.6928 - val_acc: 0.8600\n",
            "Epoch 44/200\n",
            "5/5 [==============================] - 1s 165ms/step - loss: 0.2846 - acc: 0.8867 - val_loss: 0.7134 - val_acc: 0.8400\n",
            "Epoch 45/200\n",
            "5/5 [==============================] - 1s 165ms/step - loss: 0.2652 - acc: 0.9133 - val_loss: 0.6665 - val_acc: 0.8800\n",
            "Epoch 46/200\n",
            "5/5 [==============================] - 1s 167ms/step - loss: 0.2334 - acc: 0.9133 - val_loss: 0.8063 - val_acc: 0.8400\n",
            "Epoch 47/200\n",
            "5/5 [==============================] - 1s 166ms/step - loss: 0.2164 - acc: 0.9133 - val_loss: 0.7341 - val_acc: 0.8000\n",
            "Epoch 48/200\n",
            "5/5 [==============================] - 1s 165ms/step - loss: 0.2402 - acc: 0.9000 - val_loss: 0.7630 - val_acc: 0.8600\n",
            "Epoch 49/200\n",
            "5/5 [==============================] - 1s 174ms/step - loss: 0.2258 - acc: 0.8933 - val_loss: 0.7862 - val_acc: 0.8200\n",
            "Epoch 50/200\n",
            "5/5 [==============================] - 1s 157ms/step - loss: 0.1735 - acc: 0.9467 - val_loss: 0.7192 - val_acc: 0.8800\n",
            "Epoch 51/200\n",
            "5/5 [==============================] - 1s 165ms/step - loss: 0.2713 - acc: 0.9200 - val_loss: 0.8530 - val_acc: 0.8800\n",
            "Epoch 52/200\n",
            "5/5 [==============================] - 1s 159ms/step - loss: 0.2143 - acc: 0.9200 - val_loss: 0.7910 - val_acc: 0.8400\n",
            "Epoch 53/200\n",
            "5/5 [==============================] - 1s 157ms/step - loss: 0.2162 - acc: 0.9133 - val_loss: 0.7377 - val_acc: 0.8800\n",
            "Epoch 54/200\n",
            "5/5 [==============================] - 1s 158ms/step - loss: 0.1535 - acc: 0.9467 - val_loss: 0.6835 - val_acc: 0.9000\n",
            "Epoch 55/200\n",
            "5/5 [==============================] - 1s 166ms/step - loss: 0.1638 - acc: 0.9400 - val_loss: 0.8303 - val_acc: 0.8200\n",
            "Epoch 56/200\n",
            "5/5 [==============================] - 1s 163ms/step - loss: 0.1562 - acc: 0.9467 - val_loss: 0.8866 - val_acc: 0.8000\n",
            "Epoch 57/200\n",
            "5/5 [==============================] - 1s 161ms/step - loss: 0.1491 - acc: 0.9467 - val_loss: 0.7465 - val_acc: 0.8400\n",
            "Epoch 58/200\n",
            "5/5 [==============================] - 1s 164ms/step - loss: 0.1266 - acc: 0.9533 - val_loss: 0.7643 - val_acc: 0.8600\n",
            "Epoch 59/200\n",
            "5/5 [==============================] - 1s 164ms/step - loss: 0.1698 - acc: 0.9267 - val_loss: 0.7478 - val_acc: 0.8600\n",
            "Epoch 60/200\n",
            "5/5 [==============================] - 1s 166ms/step - loss: 0.1509 - acc: 0.9333 - val_loss: 0.7224 - val_acc: 0.8800\n",
            "Epoch 61/200\n",
            "5/5 [==============================] - 1s 163ms/step - loss: 0.1352 - acc: 0.9667 - val_loss: 0.8161 - val_acc: 0.8600\n",
            "Epoch 62/200\n",
            "5/5 [==============================] - 1s 165ms/step - loss: 0.1106 - acc: 0.9667 - val_loss: 0.7801 - val_acc: 0.8600\n",
            "Epoch 63/200\n",
            "5/5 [==============================] - 1s 164ms/step - loss: 0.1016 - acc: 0.9667 - val_loss: 0.8153 - val_acc: 0.9000\n",
            "Epoch 64/200\n",
            "5/5 [==============================] - 1s 167ms/step - loss: 0.1037 - acc: 0.9733 - val_loss: 0.8328 - val_acc: 0.9000\n",
            "Epoch 65/200\n",
            "5/5 [==============================] - 1s 163ms/step - loss: 0.0801 - acc: 0.9733 - val_loss: 0.8024 - val_acc: 0.9000\n",
            "Epoch 66/200\n",
            "5/5 [==============================] - 1s 160ms/step - loss: 0.0834 - acc: 0.9800 - val_loss: 0.9072 - val_acc: 0.8600\n",
            "Epoch 67/200\n",
            "5/5 [==============================] - 1s 168ms/step - loss: 0.1618 - acc: 0.9400 - val_loss: 0.8759 - val_acc: 0.8800\n",
            "Epoch 68/200\n",
            "5/5 [==============================] - 1s 158ms/step - loss: 0.0847 - acc: 0.9733 - val_loss: 0.8798 - val_acc: 0.8600\n",
            "Epoch 69/200\n",
            "5/5 [==============================] - 1s 163ms/step - loss: 0.1150 - acc: 0.9667 - val_loss: 0.7804 - val_acc: 0.9200\n",
            "Epoch 70/200\n",
            "5/5 [==============================] - 1s 163ms/step - loss: 0.0836 - acc: 0.9667 - val_loss: 0.7614 - val_acc: 0.9000\n",
            "Epoch 71/200\n",
            "5/5 [==============================] - 1s 168ms/step - loss: 0.0839 - acc: 0.9867 - val_loss: 1.0238 - val_acc: 0.8800\n",
            "Epoch 72/200\n",
            "5/5 [==============================] - 1s 165ms/step - loss: 0.1094 - acc: 0.9533 - val_loss: 0.7791 - val_acc: 0.8800\n",
            "Epoch 73/200\n",
            "5/5 [==============================] - 1s 163ms/step - loss: 0.1187 - acc: 0.9600 - val_loss: 1.1443 - val_acc: 0.8400\n",
            "Epoch 74/200\n",
            "5/5 [==============================] - 1s 167ms/step - loss: 0.1041 - acc: 0.9667 - val_loss: 0.9118 - val_acc: 0.8600\n",
            "Epoch 75/200\n",
            "5/5 [==============================] - 1s 164ms/step - loss: 0.0756 - acc: 0.9733 - val_loss: 0.7870 - val_acc: 0.9200\n",
            "Epoch 76/200\n",
            "5/5 [==============================] - 1s 164ms/step - loss: 0.0940 - acc: 0.9800 - val_loss: 1.0174 - val_acc: 0.8200\n",
            "Epoch 77/200\n",
            "5/5 [==============================] - 1s 164ms/step - loss: 0.0892 - acc: 0.9867 - val_loss: 1.0296 - val_acc: 0.8400\n",
            "Epoch 78/200\n",
            "5/5 [==============================] - 1s 168ms/step - loss: 0.0903 - acc: 0.9600 - val_loss: 0.9943 - val_acc: 0.8800\n",
            "Epoch 79/200\n",
            "5/5 [==============================] - 1s 157ms/step - loss: 0.0729 - acc: 0.9800 - val_loss: 0.9313 - val_acc: 0.9000\n",
            "Epoch 80/200\n",
            "5/5 [==============================] - 1s 155ms/step - loss: 0.0901 - acc: 0.9667 - val_loss: 0.9177 - val_acc: 0.9000\n",
            "Epoch 81/200\n",
            "5/5 [==============================] - 1s 166ms/step - loss: 0.0903 - acc: 0.9667 - val_loss: 1.0309 - val_acc: 0.8600\n",
            "Epoch 82/200\n",
            "5/5 [==============================] - 1s 165ms/step - loss: 0.0513 - acc: 0.9867 - val_loss: 0.9449 - val_acc: 0.8600\n",
            "Epoch 83/200\n",
            "5/5 [==============================] - 1s 160ms/step - loss: 0.0466 - acc: 0.9800 - val_loss: 0.9613 - val_acc: 0.8400\n",
            "Epoch 84/200\n",
            "5/5 [==============================] - 1s 230ms/step - loss: 0.0732 - acc: 0.9800 - val_loss: 0.9011 - val_acc: 0.9000\n",
            "Epoch 85/200\n",
            "5/5 [==============================] - 1s 155ms/step - loss: 0.0726 - acc: 0.9800 - val_loss: 0.8722 - val_acc: 0.9000\n",
            "Epoch 86/200\n",
            "5/5 [==============================] - 1s 164ms/step - loss: 0.0757 - acc: 0.9800 - val_loss: 1.2870 - val_acc: 0.7800\n",
            "Epoch 87/200\n",
            "5/5 [==============================] - 1s 166ms/step - loss: 0.0711 - acc: 0.9800 - val_loss: 1.0987 - val_acc: 0.8400\n",
            "Epoch 88/200\n",
            "5/5 [==============================] - 1s 168ms/step - loss: 0.0478 - acc: 0.9933 - val_loss: 0.8845 - val_acc: 0.8800\n",
            "Epoch 89/200\n",
            "5/5 [==============================] - 1s 161ms/step - loss: 0.0639 - acc: 0.9867 - val_loss: 1.0209 - val_acc: 0.8600\n",
            "Epoch 90/200\n",
            "5/5 [==============================] - 1s 166ms/step - loss: 0.1310 - acc: 0.9467 - val_loss: 0.9024 - val_acc: 0.8600\n",
            "Epoch 91/200\n",
            "5/5 [==============================] - 1s 163ms/step - loss: 0.0368 - acc: 0.9933 - val_loss: 1.1799 - val_acc: 0.8200\n",
            "Epoch 92/200\n",
            "5/5 [==============================] - 1s 165ms/step - loss: 0.0413 - acc: 0.9933 - val_loss: 1.0519 - val_acc: 0.9200\n",
            "Epoch 93/200\n",
            "5/5 [==============================] - 1s 163ms/step - loss: 0.0630 - acc: 0.9800 - val_loss: 1.0089 - val_acc: 0.9000\n",
            "Epoch 94/200\n",
            "5/5 [==============================] - 1s 158ms/step - loss: 0.0613 - acc: 0.9800 - val_loss: 0.9764 - val_acc: 0.9000\n",
            "Epoch 95/200\n",
            "5/5 [==============================] - 1s 161ms/step - loss: 0.0418 - acc: 0.9867 - val_loss: 1.1510 - val_acc: 0.8400\n",
            "Epoch 96/200\n",
            "5/5 [==============================] - 1s 158ms/step - loss: 0.0406 - acc: 0.9867 - val_loss: 1.0576 - val_acc: 0.9000\n",
            "Epoch 97/200\n",
            "5/5 [==============================] - 1s 161ms/step - loss: 0.0428 - acc: 0.9867 - val_loss: 1.0511 - val_acc: 0.8600\n",
            "Epoch 98/200\n",
            "5/5 [==============================] - 1s 163ms/step - loss: 0.0834 - acc: 0.9867 - val_loss: 0.9983 - val_acc: 0.8800\n",
            "Epoch 99/200\n",
            "5/5 [==============================] - 1s 164ms/step - loss: 0.0435 - acc: 0.9867 - val_loss: 1.1746 - val_acc: 0.8200\n",
            "Epoch 100/200\n",
            "5/5 [==============================] - 1s 161ms/step - loss: 0.0425 - acc: 0.9933 - val_loss: 1.0746 - val_acc: 0.8600\n",
            "Epoch 101/200\n",
            "5/5 [==============================] - 1s 161ms/step - loss: 0.0716 - acc: 0.9667 - val_loss: 1.1169 - val_acc: 0.8800\n",
            "Epoch 102/200\n",
            "5/5 [==============================] - 1s 162ms/step - loss: 0.0490 - acc: 0.9800 - val_loss: 0.9509 - val_acc: 0.9000\n",
            "Epoch 103/200\n",
            "5/5 [==============================] - 1s 163ms/step - loss: 0.0389 - acc: 0.9933 - val_loss: 0.9148 - val_acc: 0.9000\n",
            "Epoch 104/200\n",
            "5/5 [==============================] - 1s 155ms/step - loss: 0.0436 - acc: 0.9800 - val_loss: 1.0216 - val_acc: 0.9000\n",
            "Epoch 105/200\n",
            "5/5 [==============================] - 1s 162ms/step - loss: 0.0426 - acc: 0.9800 - val_loss: 1.1165 - val_acc: 0.8800\n",
            "Epoch 106/200\n",
            "5/5 [==============================] - 1s 164ms/step - loss: 0.0202 - acc: 1.0000 - val_loss: 1.0569 - val_acc: 0.9000\n",
            "Epoch 107/200\n",
            "5/5 [==============================] - 1s 168ms/step - loss: 0.0236 - acc: 1.0000 - val_loss: 1.0456 - val_acc: 0.9000\n",
            "Epoch 108/200\n",
            "5/5 [==============================] - 1s 164ms/step - loss: 0.0539 - acc: 0.9933 - val_loss: 1.2457 - val_acc: 0.8800\n",
            "Epoch 109/200\n",
            "5/5 [==============================] - 1s 162ms/step - loss: 0.0234 - acc: 0.9933 - val_loss: 1.1374 - val_acc: 0.9000\n",
            "Epoch 110/200\n",
            "5/5 [==============================] - 1s 168ms/step - loss: 0.0147 - acc: 1.0000 - val_loss: 1.0386 - val_acc: 0.9000\n",
            "Epoch 111/200\n",
            "5/5 [==============================] - 1s 164ms/step - loss: 0.0417 - acc: 0.9867 - val_loss: 1.2520 - val_acc: 0.8600\n",
            "Epoch 112/200\n",
            "5/5 [==============================] - 1s 167ms/step - loss: 0.0329 - acc: 0.9933 - val_loss: 1.2431 - val_acc: 0.8800\n",
            "Epoch 113/200\n",
            "5/5 [==============================] - 1s 163ms/step - loss: 0.0176 - acc: 1.0000 - val_loss: 1.1318 - val_acc: 0.9000\n",
            "Epoch 114/200\n",
            "5/5 [==============================] - 1s 162ms/step - loss: 0.0482 - acc: 0.9800 - val_loss: 1.1334 - val_acc: 0.9000\n",
            "Epoch 115/200\n",
            "5/5 [==============================] - 1s 164ms/step - loss: 0.1051 - acc: 0.9667 - val_loss: 1.2355 - val_acc: 0.8200\n",
            "Epoch 116/200\n",
            "5/5 [==============================] - 1s 165ms/step - loss: 0.0230 - acc: 0.9933 - val_loss: 1.1607 - val_acc: 0.8800\n",
            "Epoch 117/200\n",
            "5/5 [==============================] - 1s 161ms/step - loss: 0.0529 - acc: 0.9733 - val_loss: 0.9890 - val_acc: 0.9000\n",
            "Epoch 118/200\n",
            "5/5 [==============================] - 1s 166ms/step - loss: 0.0228 - acc: 1.0000 - val_loss: 0.9098 - val_acc: 0.8600\n",
            "Epoch 119/200\n",
            "5/5 [==============================] - 1s 165ms/step - loss: 0.0403 - acc: 0.9867 - val_loss: 1.1231 - val_acc: 0.8400\n",
            "Epoch 120/200\n",
            "5/5 [==============================] - 1s 161ms/step - loss: 0.0332 - acc: 0.9933 - val_loss: 1.2830 - val_acc: 0.8600\n",
            "Epoch 121/200\n",
            "5/5 [==============================] - 1s 165ms/step - loss: 0.0511 - acc: 0.9733 - val_loss: 1.2406 - val_acc: 0.9000\n",
            "Epoch 122/200\n",
            "5/5 [==============================] - 1s 165ms/step - loss: 0.0191 - acc: 1.0000 - val_loss: 1.1265 - val_acc: 0.9200\n",
            "Epoch 123/200\n",
            "5/5 [==============================] - 1s 164ms/step - loss: 0.0295 - acc: 0.9933 - val_loss: 1.0381 - val_acc: 0.9000\n",
            "Epoch 124/200\n",
            "5/5 [==============================] - 1s 162ms/step - loss: 0.0337 - acc: 0.9933 - val_loss: 1.1465 - val_acc: 0.8800\n",
            "Epoch 125/200\n",
            "5/5 [==============================] - 1s 167ms/step - loss: 0.0282 - acc: 0.9933 - val_loss: 1.3043 - val_acc: 0.8600\n",
            "Epoch 126/200\n",
            "5/5 [==============================] - 1s 167ms/step - loss: 0.0124 - acc: 1.0000 - val_loss: 1.2954 - val_acc: 0.8800\n",
            "Epoch 127/200\n",
            "5/5 [==============================] - 1s 167ms/step - loss: 0.0354 - acc: 0.9800 - val_loss: 1.2736 - val_acc: 0.8800\n",
            "Epoch 128/200\n",
            "5/5 [==============================] - 1s 165ms/step - loss: 0.0172 - acc: 0.9933 - val_loss: 1.2717 - val_acc: 0.8600\n",
            "Epoch 129/200\n",
            "5/5 [==============================] - 1s 170ms/step - loss: 0.0291 - acc: 0.9867 - val_loss: 1.2182 - val_acc: 0.8800\n",
            "Epoch 130/200\n",
            "5/5 [==============================] - 1s 163ms/step - loss: 0.0220 - acc: 0.9867 - val_loss: 1.2201 - val_acc: 0.8600\n",
            "Epoch 131/200\n",
            "5/5 [==============================] - 1s 161ms/step - loss: 0.0618 - acc: 0.9800 - val_loss: 1.2578 - val_acc: 0.8600\n",
            "Epoch 132/200\n",
            "5/5 [==============================] - 1s 162ms/step - loss: 0.0383 - acc: 0.9867 - val_loss: 1.1373 - val_acc: 0.8800\n",
            "Epoch 133/200\n",
            "5/5 [==============================] - 1s 168ms/step - loss: 0.0449 - acc: 0.9867 - val_loss: 0.9787 - val_acc: 0.9000\n",
            "Epoch 134/200\n",
            "5/5 [==============================] - 1s 161ms/step - loss: 0.0231 - acc: 0.9933 - val_loss: 1.4012 - val_acc: 0.8200\n",
            "Epoch 135/200\n",
            "5/5 [==============================] - 1s 161ms/step - loss: 0.0415 - acc: 0.9933 - val_loss: 1.2622 - val_acc: 0.8400\n",
            "Epoch 136/200\n",
            "5/5 [==============================] - 1s 162ms/step - loss: 0.0213 - acc: 1.0000 - val_loss: 1.1457 - val_acc: 0.9000\n",
            "Epoch 137/200\n",
            "5/5 [==============================] - 1s 175ms/step - loss: 0.0110 - acc: 1.0000 - val_loss: 1.1486 - val_acc: 0.9200\n",
            "Epoch 138/200\n",
            "5/5 [==============================] - 1s 164ms/step - loss: 0.0157 - acc: 1.0000 - val_loss: 1.2528 - val_acc: 0.9000\n",
            "Epoch 139/200\n",
            "5/5 [==============================] - 1s 170ms/step - loss: 0.0284 - acc: 0.9933 - val_loss: 1.3195 - val_acc: 0.8400\n",
            "Epoch 140/200\n",
            "5/5 [==============================] - 1s 170ms/step - loss: 0.0345 - acc: 0.9933 - val_loss: 1.0888 - val_acc: 0.9000\n",
            "Epoch 141/200\n",
            "5/5 [==============================] - 1s 175ms/step - loss: 0.0196 - acc: 0.9933 - val_loss: 1.2855 - val_acc: 0.8800\n",
            "Epoch 142/200\n",
            "5/5 [==============================] - 1s 175ms/step - loss: 0.0363 - acc: 0.9867 - val_loss: 1.3207 - val_acc: 0.8600\n",
            "Epoch 143/200\n",
            "5/5 [==============================] - 1s 169ms/step - loss: 0.0584 - acc: 0.9800 - val_loss: 1.1807 - val_acc: 0.9000\n",
            "Epoch 144/200\n",
            "5/5 [==============================] - 1s 165ms/step - loss: 0.0154 - acc: 1.0000 - val_loss: 1.2818 - val_acc: 0.8800\n",
            "Epoch 145/200\n",
            "5/5 [==============================] - 1s 174ms/step - loss: 0.0204 - acc: 0.9933 - val_loss: 1.3656 - val_acc: 0.8400\n",
            "Epoch 146/200\n",
            "5/5 [==============================] - 1s 171ms/step - loss: 0.0200 - acc: 0.9933 - val_loss: 1.3174 - val_acc: 0.8800\n",
            "Epoch 147/200\n",
            "5/5 [==============================] - 1s 168ms/step - loss: 0.0296 - acc: 0.9867 - val_loss: 1.2298 - val_acc: 0.9200\n",
            "Epoch 148/200\n",
            "5/5 [==============================] - 1s 172ms/step - loss: 0.0329 - acc: 0.9933 - val_loss: 1.2812 - val_acc: 0.8800\n",
            "Epoch 149/200\n",
            "5/5 [==============================] - 1s 178ms/step - loss: 0.0222 - acc: 0.9933 - val_loss: 1.5005 - val_acc: 0.8400\n",
            "Epoch 150/200\n",
            "5/5 [==============================] - 1s 167ms/step - loss: 0.0185 - acc: 0.9933 - val_loss: 1.3422 - val_acc: 0.8800\n",
            "Epoch 151/200\n",
            "5/5 [==============================] - 1s 172ms/step - loss: 0.0103 - acc: 1.0000 - val_loss: 1.2607 - val_acc: 0.8800\n",
            "Epoch 152/200\n",
            "5/5 [==============================] - 1s 172ms/step - loss: 0.0254 - acc: 0.9867 - val_loss: 1.3142 - val_acc: 0.8800\n",
            "Epoch 153/200\n",
            "5/5 [==============================] - 1s 175ms/step - loss: 0.0086 - acc: 0.9933 - val_loss: 1.4349 - val_acc: 0.8200\n",
            "Epoch 154/200\n",
            "5/5 [==============================] - 1s 167ms/step - loss: 0.0046 - acc: 1.0000 - val_loss: 1.5316 - val_acc: 0.8600\n",
            "Epoch 155/200\n",
            "5/5 [==============================] - 1s 165ms/step - loss: 0.0113 - acc: 1.0000 - val_loss: 1.4275 - val_acc: 0.8400\n",
            "Epoch 156/200\n",
            "5/5 [==============================] - 1s 170ms/step - loss: 0.0200 - acc: 0.9867 - val_loss: 1.2420 - val_acc: 0.9000\n",
            "Epoch 157/200\n",
            "5/5 [==============================] - 1s 168ms/step - loss: 0.0327 - acc: 0.9867 - val_loss: 1.2686 - val_acc: 0.9000\n",
            "Epoch 158/200\n",
            "5/5 [==============================] - 1s 161ms/step - loss: 0.0287 - acc: 0.9800 - val_loss: 1.2241 - val_acc: 0.8800\n",
            "Epoch 159/200\n",
            "5/5 [==============================] - 1s 159ms/step - loss: 0.0085 - acc: 1.0000 - val_loss: 1.2386 - val_acc: 0.9000\n",
            "Epoch 160/200\n",
            "5/5 [==============================] - 1s 163ms/step - loss: 0.0049 - acc: 1.0000 - val_loss: 1.2546 - val_acc: 0.9000\n",
            "Epoch 161/200\n",
            "5/5 [==============================] - 1s 167ms/step - loss: 0.0158 - acc: 0.9933 - val_loss: 1.3061 - val_acc: 0.9000\n",
            "Epoch 162/200\n",
            "5/5 [==============================] - 1s 171ms/step - loss: 0.0076 - acc: 1.0000 - val_loss: 1.3884 - val_acc: 0.8800\n",
            "Epoch 163/200\n",
            "5/5 [==============================] - 1s 162ms/step - loss: 0.0192 - acc: 0.9800 - val_loss: 1.5009 - val_acc: 0.8600\n",
            "Epoch 164/200\n",
            "5/5 [==============================] - 1s 167ms/step - loss: 0.0285 - acc: 0.9933 - val_loss: 1.3924 - val_acc: 0.8600\n",
            "Epoch 165/200\n",
            "5/5 [==============================] - 1s 166ms/step - loss: 0.0289 - acc: 0.9867 - val_loss: 1.3545 - val_acc: 0.9200\n",
            "Epoch 166/200\n",
            "5/5 [==============================] - 1s 165ms/step - loss: 0.0214 - acc: 0.9867 - val_loss: 1.4792 - val_acc: 0.8600\n",
            "Epoch 167/200\n",
            "5/5 [==============================] - 1s 167ms/step - loss: 0.0293 - acc: 0.9867 - val_loss: 1.3980 - val_acc: 0.8800\n",
            "Epoch 168/200\n",
            "5/5 [==============================] - 1s 167ms/step - loss: 0.0239 - acc: 0.9933 - val_loss: 1.4740 - val_acc: 0.8800\n",
            "Epoch 169/200\n",
            "5/5 [==============================] - 1s 161ms/step - loss: 0.0255 - acc: 0.9867 - val_loss: 1.3130 - val_acc: 0.9200\n",
            "Epoch 170/200\n",
            "5/5 [==============================] - 1s 168ms/step - loss: 0.0184 - acc: 0.9933 - val_loss: 1.2717 - val_acc: 0.9000\n",
            "Epoch 171/200\n",
            "5/5 [==============================] - 1s 170ms/step - loss: 0.0157 - acc: 0.9933 - val_loss: 1.3193 - val_acc: 0.9000\n",
            "Epoch 172/200\n",
            "5/5 [==============================] - 1s 169ms/step - loss: 0.0285 - acc: 0.9933 - val_loss: 1.6016 - val_acc: 0.8600\n",
            "Epoch 173/200\n",
            "5/5 [==============================] - 1s 169ms/step - loss: 0.0454 - acc: 0.9933 - val_loss: 1.5802 - val_acc: 0.8600\n",
            "Epoch 174/200\n",
            "5/5 [==============================] - 1s 176ms/step - loss: 0.0143 - acc: 1.0000 - val_loss: 1.3722 - val_acc: 0.8800\n",
            "Epoch 175/200\n",
            "5/5 [==============================] - 1s 166ms/step - loss: 0.0051 - acc: 1.0000 - val_loss: 1.3451 - val_acc: 0.8800\n",
            "Epoch 176/200\n",
            "5/5 [==============================] - 1s 167ms/step - loss: 0.0098 - acc: 1.0000 - val_loss: 1.3095 - val_acc: 0.9000\n",
            "Epoch 177/200\n",
            "5/5 [==============================] - 1s 167ms/step - loss: 0.0132 - acc: 0.9933 - val_loss: 1.2451 - val_acc: 0.8800\n",
            "Epoch 178/200\n",
            "5/5 [==============================] - 1s 168ms/step - loss: 0.0072 - acc: 1.0000 - val_loss: 1.2721 - val_acc: 0.8800\n",
            "Epoch 179/200\n",
            "5/5 [==============================] - 1s 165ms/step - loss: 0.0159 - acc: 0.9933 - val_loss: 1.5726 - val_acc: 0.8400\n",
            "Epoch 180/200\n",
            "5/5 [==============================] - 1s 164ms/step - loss: 0.0237 - acc: 0.9933 - val_loss: 1.4402 - val_acc: 0.8400\n",
            "Epoch 181/200\n",
            "5/5 [==============================] - 1s 171ms/step - loss: 0.0210 - acc: 1.0000 - val_loss: 1.5116 - val_acc: 0.8400\n",
            "Epoch 182/200\n",
            "5/5 [==============================] - 1s 162ms/step - loss: 0.0053 - acc: 1.0000 - val_loss: 1.6772 - val_acc: 0.8400\n",
            "Epoch 183/200\n",
            "5/5 [==============================] - 1s 168ms/step - loss: 0.0267 - acc: 0.9867 - val_loss: 1.3990 - val_acc: 0.9000\n",
            "Epoch 184/200\n",
            "5/5 [==============================] - 1s 170ms/step - loss: 0.0312 - acc: 0.9867 - val_loss: 1.3536 - val_acc: 0.9000\n",
            "Epoch 185/200\n",
            "5/5 [==============================] - 1s 171ms/step - loss: 0.0180 - acc: 0.9933 - val_loss: 1.4470 - val_acc: 0.8800\n",
            "Epoch 186/200\n",
            "5/5 [==============================] - 1s 163ms/step - loss: 0.0085 - acc: 1.0000 - val_loss: 1.4672 - val_acc: 0.8600\n",
            "Epoch 187/200\n",
            "5/5 [==============================] - 1s 162ms/step - loss: 0.0028 - acc: 1.0000 - val_loss: 1.4213 - val_acc: 0.8800\n",
            "Epoch 188/200\n",
            "5/5 [==============================] - 1s 162ms/step - loss: 0.0047 - acc: 1.0000 - val_loss: 1.3842 - val_acc: 0.8800\n",
            "Epoch 189/200\n",
            "5/5 [==============================] - 1s 164ms/step - loss: 0.0053 - acc: 1.0000 - val_loss: 1.4083 - val_acc: 0.9200\n",
            "Epoch 190/200\n",
            "5/5 [==============================] - 1s 164ms/step - loss: 0.0032 - acc: 1.0000 - val_loss: 1.4547 - val_acc: 0.9000\n",
            "Epoch 191/200\n",
            "5/5 [==============================] - 1s 165ms/step - loss: 0.0043 - acc: 1.0000 - val_loss: 1.4573 - val_acc: 0.9000\n",
            "Epoch 192/200\n",
            "5/5 [==============================] - 1s 166ms/step - loss: 0.0049 - acc: 1.0000 - val_loss: 1.4994 - val_acc: 0.9000\n",
            "Epoch 193/200\n",
            "5/5 [==============================] - 1s 168ms/step - loss: 0.0065 - acc: 1.0000 - val_loss: 1.4709 - val_acc: 0.9200\n",
            "Epoch 194/200\n",
            "5/5 [==============================] - 1s 167ms/step - loss: 0.0074 - acc: 0.9933 - val_loss: 1.5570 - val_acc: 0.8800\n",
            "Epoch 195/200\n",
            "5/5 [==============================] - 1s 160ms/step - loss: 0.0018 - acc: 1.0000 - val_loss: 1.6669 - val_acc: 0.8600\n",
            "Epoch 196/200\n",
            "5/5 [==============================] - 1s 162ms/step - loss: 0.0106 - acc: 0.9933 - val_loss: 1.5470 - val_acc: 0.8800\n",
            "Epoch 197/200\n",
            "5/5 [==============================] - 1s 166ms/step - loss: 0.0183 - acc: 0.9933 - val_loss: 1.3538 - val_acc: 0.9200\n",
            "Epoch 198/200\n",
            "5/5 [==============================] - 1s 167ms/step - loss: 0.0036 - acc: 1.0000 - val_loss: 1.3199 - val_acc: 0.9200\n",
            "Epoch 199/200\n",
            "5/5 [==============================] - 1s 172ms/step - loss: 0.0077 - acc: 0.9933 - val_loss: 1.3960 - val_acc: 0.9000\n",
            "Epoch 200/200\n",
            "5/5 [==============================] - 1s 167ms/step - loss: 0.0051 - acc: 1.0000 - val_loss: 1.4534 - val_acc: 0.9000\n"
          ]
        }
      ]
    },
    {
      "cell_type": "code",
      "metadata": {
        "colab": {
          "base_uri": "https://localhost:8080/",
          "height": 545
        },
        "id": "qJnFOLndpoN9",
        "outputId": "2805ffac-6d73-402f-be4c-b6a8eba4c851"
      },
      "source": [
        "### Plot training and validation accuracy and loss over time\n",
        "\n",
        "# Extract accuracy and loss values (in list form) from the history\n",
        "acc = history.history['acc']\n",
        "val_acc = history.history['val_acc']\n",
        "loss = history.history['loss']\n",
        "val_loss = history.history['val_loss']\n",
        "\n",
        "# Create a list of epoch numbers\n",
        "epochs = range(1, len(acc) + 1)\n",
        "\n",
        "# Plot training and validation loss values over time\n",
        "plt.figure()\n",
        "plt.plot(epochs, loss, color='blue', marker='.', label='Training loss')\n",
        "plt.plot(epochs, val_loss, color='orange', marker='.', label='Validation loss')\n",
        "plt.title('Training and validation loss')\n",
        "plt.legend()\n",
        "\n",
        "# Plot training and validation accuracies over time\n",
        "plt.figure()\n",
        "plt.plot(epochs, acc, color='blue', marker='.', label='Training acc')\n",
        "plt.plot(epochs, val_acc, color='orange', marker='.', label='Validation acc')\n",
        "plt.title('Training and validation accuracy')\n",
        "plt.legend()\n",
        "plt.show()"
      ],
      "execution_count": null,
      "outputs": [
        {
          "output_type": "display_data",
          "data": {
            "image/png": "[encoded data removed]",
            "text/plain": [
              "<Figure size 432x288 with 1 Axes>"
            ]
          },
          "metadata": {
            "needs_background": "light"
          }
        },
        {
          "output_type": "display_data",
          "data": {
            "image/png": "[encoded data removed]",
            "text/plain": [
              "<Figure size 432x288 with 1 Axes>"
            ]
          },
          "metadata": {
            "needs_background": "light"
          }
        }
      ]
    },
    {
      "cell_type": "code",
      "metadata": {
        "colab": {
          "base_uri": "https://localhost:8080/"
        },
        "id": "kgmX9gfJpq-L",
        "outputId": "03fad7c3-590b-4bc0-d4be-e7c6aedd7735"
      },
      "source": [
        "### Try predicting label with one validation sample (inference)\n",
        "\n",
        "# Change this to try a different sample from the test set\n",
        "idx = 0\n",
        "\n",
        "# Make sample 2D array instead of 1D vector (this is what the Keras model expects as input)\n",
        "x = np.expand_dims(X_val[idx], 0)\n",
        "\n",
        "# Make prediction using trained model\n",
        "y_pred = model.predict(x)\n",
        "\n",
        "# Find index of highest score in output\n",
        "predicted_label = np.argmax(y_pred)\n",
        "actual_label = np.argmax(Y_val[idx])\n",
        "\n",
        "# Display model output, predicted label, actual label\n",
        "print(\"Model output:\", y_pred)\n",
        "print(\"Predicted label:\", predicted_label, \"-\", labels[predicted_label])\n",
        "print(\"Actual label:\", actual_label, \"-\", labels[actual_label])"
      ],
      "execution_count": null,
      "outputs": [
        {
          "output_type": "stream",
          "name": "stdout",
          "text": [
            "Model output: [[3.3150405e-10 1.0000000e+00 6.5928054e-07 3.5119355e-03 9.9995661e-01]]\n",
            "Predicted label: 1 - Two\n",
            "Actual label: 1 - Two\n"
          ]
        }
      ]
    },
    {
      "cell_type": "code",
      "metadata": {
        "colab": {
          "base_uri": "https://localhost:8080/"
        },
        "id": "0Lo3KWpjptJk",
        "outputId": "cf3764e9-8a72-4d03-a65f-6a129b9d1602"
      },
      "source": [
        "### Create confusion matrix from validation set\n",
        "\n",
        "# Find predictions from all validation samples\n",
        "Y_pred = model.predict(X_val)\n",
        "print(\"Validation output shape:\", Y_pred.shape)\n",
        "\n",
        "# Convert actual and predicted validation one-hot encoding to numerical labels\n",
        "y_val = np.argmax(Y_val, axis=1)\n",
        "y_pred = np.argmax(Y_pred, axis=1)\n",
        "\n",
        "# Print some values from actual and predicted validation sets (first 50 samples)\n",
        "print(\"Actual validation labels:\\t\", y_val[:50])\n",
        "print(\"Predicted validation labels:\\t\", y_pred[:50])\n",
        "\n",
        "# Compute confusion matrix (note: we need to transpose SKLearn matrix to make it match Edge Impulse)\n",
        "cm = confusion_matrix(y_val, y_pred)\n",
        "cm = np.transpose(cm)\n",
        "\n",
        "# Print confusion matrix\n",
        "print()\n",
        "print(\" ---> Predicted labels\")\n",
        "print(\"|\")\n",
        "print(\"v Actual labels\")\n",
        "print(\"\\t\\t\\t\" + ' '.join(\"{!s:6}\".format('(' + str(i) + ')') for i in range(num_classes)))\n",
        "for row in range(num_classes):\n",
        "  print(\"{:>12} ({}):  [{}]\".format(labels[row], row, ' '.join(\"{:6}\".format(i) for i in cm[row])))"
      ],
      "execution_count": null,
      "outputs": [
        {
          "output_type": "stream",
          "name": "stdout",
          "text": [
            "Validation output shape: (50, 5)\n",
            "Actual validation labels:\t [1 1 2 1 0 4 3 4 3 0 4 1 1 1 3 0 3 0 3 0 2 2 3 1 2 3 0 3 2 4 4 0 2 0 3 3 4\n",
            " 0 0 2 2 3 0 1 2 4 0 1 3 3]\n",
            "Predicted validation labels:\t [1 1 2 1 0 4 3 4 3 0 3 1 1 1 3 0 3 0 3 1 2 2 3 1 2 3 0 3 2 4 1 0 2 0 3 3 4\n",
            " 0 0 2 2 3 4 1 2 4 0 1 3 3]\n",
            "\n",
            " ---> Predicted labels\n",
            "|\n",
            "v Actual labels\n",
            "\t\t\t(0)    (1)    (2)    (3)    (4)   \n",
            "         One (0):  [    10      0      0      0      0]\n",
            "         Two (1):  [     1      9      0      0      1]\n",
            "  background (2):  [     0      0      9      0      0]\n",
            "        half (3):  [     0      0      0     13      1]\n",
            "    pointone (4):  [     1      0      0      0      5]\n"
          ]
        }
      ]
    },
    {
      "cell_type": "code",
      "metadata": {
        "colab": {
          "base_uri": "https://localhost:8080/"
        },
        "id": "hgZXa_y2qorZ",
        "outputId": "8db234ca-c9b5-42aa-b27f-ab746380a04e"
      },
      "source": [
        "### Evaluate model on validation set\n",
        "score = model.evaluate(X_val, Y_val)\n",
        "print(\"Validation loss:\", score[0])\n",
        "print(\"Validation accuracy:\", score[1])"
      ],
      "execution_count": null,
      "outputs": [
        {
          "output_type": "stream",
          "name": "stdout",
          "text": [
            "2/2 [==============================] - 0s 33ms/step - loss: 1.4534 - acc: 0.9000\n",
            "Validation loss: 1.4533718824386597\n",
            "Validation accuracy: 0.8999999761581421\n"
          ]
        }
      ]
    },
    {
      "cell_type": "code",
      "metadata": {
        "colab": {
          "base_uri": "https://localhost:8080/"
        },
        "id": "m2lvFg0RVxFr",
        "outputId": "239a1623-8c26-4bf7-db4d-200812c659c3"
      },
      "source": [
        "### Evaluate model on entire test set\n",
        "score = model.evaluate(X_test, Y_test)\n",
        "print(\"Test loss:\", score[0])\n",
        "print(\"Test accuracy:\", score[1])"
      ],
      "execution_count": null,
      "outputs": [
        {
          "output_type": "stream",
          "name": "stdout",
          "text": [
            "2/2 [==============================] - 0s 34ms/step - loss: 0.6106 - acc: 0.9000\n",
            "Test loss: 0.6106115579605103\n",
            "Test accuracy: 0.8999999761581421\n"
          ]
        }
      ]
    }
  ]
}